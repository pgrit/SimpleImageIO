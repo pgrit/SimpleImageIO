{
 "cells": [
  {
   "cell_type": "markdown",
   "metadata": {},
   "source": [
    "# Flip book example\n",
    "\n",
    "Shows how the flip book tool can be used with Python inside a Jupyter notebook for interactive image viewers."
   ]
  },
  {
   "cell_type": "code",
   "execution_count": null,
   "metadata": {},
   "outputs": [],
   "source": [
    "import simpleimageio as sio"
   ]
  },
  {
   "cell_type": "markdown",
   "metadata": {},
   "source": [
    "Create the header code (javascript logic and CSS style for the flip books)"
   ]
  },
  {
   "cell_type": "code",
   "execution_count": null,
   "metadata": {},
   "outputs": [],
   "source": [
    "sio.flip_header()"
   ]
  },
  {
   "cell_type": "markdown",
   "metadata": {},
   "source": [
    "Create a flip book for two simple images"
   ]
  },
  {
   "cell_type": "code",
   "execution_count": null,
   "metadata": {},
   "outputs": [],
   "source": [
    "import numpy as np\n",
    "red = np.tile([0.8, 0.1, 0.2], (32, 64, 1))\n",
    "blue = np.tile([0.1, 0.1, 0.8], (32, 64, 1))\n",
    "\n",
    "sio.flip_book([(\"red\", red), (\"blue\", blue)])"
   ]
  },
  {
   "cell_type": "code",
   "execution_count": null,
   "metadata": {},
   "outputs": [],
   "source": [
    "imgs = [\n",
    "    sio.read(\"./Data/PathTracer.exr\"),\n",
    "    sio.read(\"./Data/ClassicBidir.exr\")\n",
    "]\n",
    "names = [\n",
    "    \"PT\", \"BDPT\"\n",
    "]\n",
    "\n",
    "sio.flip_book(list(zip(names, imgs)))"
   ]
  }
 ],
 "metadata": {
  "kernelspec": {
   "display_name": "Python 3.8.6rc1 64-bit",
   "language": "python",
   "name": "python3"
  },
  "language_info": {
   "codemirror_mode": {
    "name": "ipython",
    "version": 3
   },
   "file_extension": ".py",
   "mimetype": "text/x-python",
   "name": "python",
   "nbconvert_exporter": "python",
   "pygments_lexer": "ipython3",
   "version": "3.8.6rc1"
  },
  "orig_nbformat": 4,
  "vscode": {
   "interpreter": {
    "hash": "fc87cfcb4bd3c7e534112202460c5beee4123596d0f2beb7f82258bcc49f7d0d"
   }
  }
 },
 "nbformat": 4,
 "nbformat_minor": 2
}
